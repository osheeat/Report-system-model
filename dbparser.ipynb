{
 "cells": [
  {
   "cell_type": "code",
   "execution_count": 65,
   "metadata": {},
   "outputs": [
    {
     "name": "stdout",
     "output_type": "stream",
     "text": [
      "[nan, 'Сумма', 'Сумма значений показателя/Кол-во значений показателя в расчете', 'Суммарное количество нефти/Суммарное количество меркаптанов', 'Суммарное количество нефти/Суммарное количество сероводоода', 'Суммарное количество нефти/Суммарное количество воды', 'Суммарное количество нефти/Суммарное количество мелких примесей', 'Суммарное количество нефти/Суммарное количество хлористых солей', 'Суммарное количество нефти/Суммарное количество хлорорганических соединений', 'Суммарное количество нефти/Суммарное количество общей серы', 'Сумма значений показателя/Сумма значений показателя', 'Общий процент', 'Сумма значений коэффициентов/Кол-во значений коэффициентов в расчете']\n"
     ]
    }
   ],
   "source": [
    "import pandas as pd\n",
    "\n",
    "# Загрузите данные из файла Excel\n",
    "excel_file = 'C:/Users/oleg9/study/Диплом/1.xlsx'\n",
    "df = pd.read_excel(excel_file)\n",
    "\n",
    "# Выберите столбец, в котором нужно найти уникальные строки\n",
    "столбец = 'Метод получения агрегированного значения'\n",
    "\n",
    "\n",
    "\n",
    "\n",
    "# Используйте метод drop_duplicates, чтобы получить уникальные значения\n",
    "уникальные_значения = df[столбец].drop_duplicates().tolist()\n",
    "\n",
    "# Выведите или используйте уникальные значения по вашему усмотрению\n",
    "print(уникальные_значения)\n"
   ]
  },
  {
   "cell_type": "code",
   "execution_count": 80,
   "metadata": {},
   "outputs": [],
   "source": [
    "import psycopg2\n",
    "\n",
    "# Подключение к базе данных\n",
    "conn = psycopg2.connect(\n",
    "    host=\"localhost\",\n",
    "    database=\"rsmDB1\",\n",
    "    user=\"postgres\",\n",
    "    password=\"postgres\"\n",
    ")\n",
    "\n",
    "# Создание курсора\n",
    "cur = conn.cursor()\n",
    "\n",
    "# Список значений, которые вы хотите добавить\n",
    "значения = уникальные_значения\n"
   ]
  },
  {
   "cell_type": "code",
   "execution_count": 81,
   "metadata": {},
   "outputs": [],
   "source": [
    "# SQL-запрос для добавления значений\n",
    "sql = \"INSERT INTO method_of_obtaining (Value) VALUES (%s)\"\n",
    "\n",
    "# Использование цикла для добавления каждого значения в базу данных\n",
    "for значение in значения:\n",
    "    cur.execute(sql, (значение,))\n",
    "\n",
    "# Подтверждение изменений и закрытие соединения\n",
    "conn.commit()\n",
    "cur.close()\n",
    "conn.close()"
   ]
  },
  {
   "cell_type": "code",
   "execution_count": null,
   "metadata": {},
   "outputs": [],
   "source": []
  }
 ],
 "metadata": {
  "kernelspec": {
   "display_name": "Python 3",
   "language": "python",
   "name": "python3"
  },
  "language_info": {
   "codemirror_mode": {
    "name": "ipython",
    "version": 3
   },
   "file_extension": ".py",
   "mimetype": "text/x-python",
   "name": "python",
   "nbconvert_exporter": "python",
   "pygments_lexer": "ipython3",
   "version": "3.11.6"
  }
 },
 "nbformat": 4,
 "nbformat_minor": 2
}
