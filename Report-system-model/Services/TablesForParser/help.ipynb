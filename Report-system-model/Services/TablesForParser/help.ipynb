{
 "cells": [
  {
   "cell_type": "markdown",
   "metadata": {},
   "source": [
    "Столбец Source_system_id\n"
   ]
  },
  {
   "cell_type": "code",
   "execution_count": 19,
   "metadata": {},
   "outputs": [
    {
     "name": "stdout",
     "output_type": "stream",
     "text": [
      "Все данные успешно транспонированы из файла C:/Users/oleg9/study/Диплом/Service/helper.xlsx в файл C:/Users/oleg9/study/Диплом/Service/indicator_source_system.xlsx\n"
     ]
    }
   ],
   "source": [
    "from openpyxl import load_workbook\n",
    "\n",
    "def transpose_all_rows(source_file, source_sheet_name, target_file, target_sheet_name, target_column):\n",
    "    # Загрузка исходного и целевого Excel-файлов\n",
    "    source_wb = load_workbook(source_file)\n",
    "    target_wb = load_workbook(target_file)\n",
    "\n",
    "    # Выбор листов исходного и целевого файлов\n",
    "    source_sheet = source_wb[source_sheet_name]\n",
    "    target_sheet = target_wb[target_sheet_name]\n",
    "\n",
    "    # Переменная для отслеживания текущей строки в целевом файле\n",
    "    current_row = 1\n",
    "\n",
    "    # Копирование всех строк из исходного файла и вставка в один столбец целевого файла\n",
    "    for row in source_sheet.iter_rows(values_only=True):\n",
    "        for cell_value in row:\n",
    "            target_sheet.cell(row=current_row, column=target_column, value=cell_value)\n",
    "            current_row += 1\n",
    "\n",
    "    # Сохранение изменений в целевом файле\n",
    "    target_wb.save(target_file)\n",
    "\n",
    "    print(\"Все данные успешно транспонированы из файла\", source_file, \"в файл\", target_file)\n",
    "\n",
    "# Пример использования функции transpose_all_rows\n",
    "transpose_all_rows(\"C:/Users/oleg9/study/Диплом/Service/helper.xlsx\", \"Sheet1\", \"C:/Users/oleg9/study/Диплом/Service/indicator_source_system.xlsx\", \"Sheet1\", 1)\n"
   ]
  },
  {
   "cell_type": "markdown",
   "metadata": {},
   "source": [
    "\n",
    "Столбец keyfigure_id\n"
   ]
  },
  {
   "cell_type": "code",
   "execution_count": 17,
   "metadata": {},
   "outputs": [],
   "source": [
    "from openpyxl import Workbook, load_workbook\n",
    "from openpyxl.utils import get_column_letter\n",
    "\n",
    "def duplicate_cell(src_file, src_sheet, dest_file, dest_sheet):\n",
    "    # Load the source workbook\n",
    "    src_wb = load_workbook(src_file)\n",
    "    src_ws = src_wb[src_sheet]\n",
    "\n",
    "    # Create a new workbook for the destination file\n",
    "    dest_wb = Workbook()\n",
    "    dest_ws = dest_wb.active\n",
    "\n",
    "    # Iterate over all cells in the source sheet\n",
    "    for row in src_ws.iter_rows():\n",
    "        for cell in row:\n",
    "            # Get source cell value\n",
    "            cell_value = cell.value\n",
    "            \n",
    "            # Duplicate the cell value 6 times in the destination sheet\n",
    "            for i in range(6):\n",
    "                # Calculate destination cell coordinates\n",
    "                dest_row = cell.row * 6 - 5 + i\n",
    "                dest_column = cell.column\n",
    "\n",
    "                # Set value of destination cell\n",
    "                dest_ws.cell(row=dest_row, column=dest_column, value=cell_value)\n",
    "\n",
    "    # Save changes to destination workbook\n",
    "    dest_wb.save(dest_file)\n",
    "\n",
    "# Пример использования:\n",
    "src_file = \"C:/Users/oleg9/study/Диплом/Service/helper.xlsx\"\n",
    "src_sheet = \"Sheet2\"\n",
    "dest_file = \"C:/Users/oleg9/study/Диплом/Service/indicator_source_system.xlsx\"\n",
    "dest_sheet = \"Sheet2\"\n",
    "\n",
    "duplicate_cell(src_file, src_sheet, dest_file, dest_sheet)\n"
   ]
  },
  {
   "cell_type": "code",
   "execution_count": 23,
   "metadata": {},
   "outputs": [],
   "source": [
    "import psycopg2\n",
    "import pandas as pd\n",
    "\n",
    "\n",
    "conn = psycopg2.connect(\n",
    "    dbname=\"rsm9\",\n",
    "    user=\"postgres\",\n",
    "    password=\"postgres\",\n",
    "    host=\"localhost\"\n",
    ")\n",
    "\n",
    "cur = conn.cursor()\n",
    "\n",
    "\n",
    "df = pd.read_excel(\"C:/Users/oleg9/study/Диплом/Service/indicator_source_system.xlsx\")\n",
    "\n",
    "for index, row in df.iterrows():\n",
    "    # Получите название из Excel\n",
    "    keyfigure = row['keyfigure_id']\n",
    "    cur.execute(\"SELECT id FROM keyfigure WHERE sap_code = %s\", (keyfigure,))\n",
    "    result = cur.fetchone()\n",
    "\n",
    "    company = row['company_id']\n",
    "    cur.execute(\"SELECT id FROM company WHERE title = %s\", (company,))\n",
    "    result2 = cur.fetchone()\n",
    "\n",
    "    source_system = row['source_system_id']\n",
    "    cur.execute(\"SELECT id FROM source_system WHERE title = %s\", (source_system,))\n",
    "    result3 = cur.fetchone()\n",
    "\n",
    "\n",
    "    if result and result2 and result3:\n",
    "\n",
    "        # Если идентификатор найден, используйте его для вставки данных\n",
    "            id_названия = result[0]\n",
    "            id_company = result2[0]\n",
    "            id_ss = result3[0]\n",
    "            # Вставьте данные в вашу таблицу, заменив 'ваша_таблица' и 'столбцы' на соответствующие значения\n",
    "            cur.execute(\"INSERT INTO indicator_source_system (keyfigure_id, company_id, source_system_id) VALUES (%s, %s, %s)\", (id_названия, id_company, id_ss))\n",
    "\n",
    "\n",
    "# Не забудьте зафиксировать изменения и закрыть соединение\n",
    "conn.commit()\n",
    "cur.close()\n",
    "conn.close()\n"
   ]
  },
  {
   "cell_type": "code",
   "execution_count": 38,
   "metadata": {},
   "outputs": [
    {
     "name": "stdout",
     "output_type": "stream",
     "text": [
      "Все данные успешно транспонированы из файла C:/Users/oleg9/study/Диплом/Service/helper.xlsx в файл C:/Users/oleg9/study/Диплом/Service/resource_indicator_source_system.xlsx\n"
     ]
    }
   ],
   "source": [
    "from openpyxl import load_workbook\n",
    "\n",
    "def transpose_all_rows(source_file, source_sheet_name, target_file, target_sheet_name, target_column):\n",
    "    # Загрузка исходного и целевого Excel-файлов\n",
    "    source_wb = load_workbook(source_file)\n",
    "    target_wb = load_workbook(target_file)\n",
    "\n",
    "    # Выбор листов исходного и целевого файлов\n",
    "    source_sheet = source_wb[source_sheet_name]\n",
    "    target_sheet = target_wb[target_sheet_name]\n",
    "\n",
    "    # Переменная для отслеживания текущей строки в целевом файле\n",
    "    current_row = 1\n",
    "\n",
    "    # Копирование всех строк из исходного файла и вставка в один столбец целевого файла\n",
    "    for row in source_sheet.iter_rows(values_only=True):\n",
    "        for cell_value in row:\n",
    "            target_sheet.cell(row=current_row, column=target_column, value=cell_value)\n",
    "            current_row += 1\n",
    "\n",
    "    # Сохранение изменений в целевом файле\n",
    "    target_wb.save(target_file)\n",
    "\n",
    "    print(\"Все данные успешно транспонированы из файла\", source_file, \"в файл\", target_file)\n",
    "\n",
    "# Пример использования функции transpose_all_rows\n",
    "transpose_all_rows(\"C:/Users/oleg9/study/Диплом/Service/helper.xlsx\", \"1\", \"C:/Users/oleg9/study/Диплом/Service/resource_indicator_source_system.xlsx\", \"2\", 1)"
   ]
  },
  {
   "cell_type": "code",
   "execution_count": 37,
   "metadata": {},
   "outputs": [],
   "source": [
    "from openpyxl import Workbook, load_workbook\n",
    "from openpyxl.utils import get_column_letter\n",
    "\n",
    "def duplicate_cell(src_file, src_sheet, dest_file, dest_sheet):\n",
    "    # Load the source workbook\n",
    "    src_wb = load_workbook(src_file)\n",
    "    src_ws = src_wb[src_sheet]\n",
    "\n",
    "    # Create a new workbook for the destination file\n",
    "    dest_wb = Workbook()\n",
    "    dest_ws = dest_wb.active\n",
    "\n",
    "    # Iterate over all cells in the source sheet\n",
    "    for row in src_ws.iter_rows():\n",
    "        for cell in row:\n",
    "            # Get source cell value\n",
    "            cell_value = cell.value\n",
    "            \n",
    "            # Duplicate the cell value 6 times in the destination sheet\n",
    "            for i in range(3):\n",
    "                # Calculate destination cell coordinates\n",
    "                dest_row = cell.row * 3 - 2 + i\n",
    "                dest_column = cell.column\n",
    "\n",
    "                # Set value of destination cell\n",
    "                dest_ws.cell(row=dest_row, column=dest_column, value=cell_value)\n",
    "\n",
    "    # Save changes to destination workbook\n",
    "    dest_wb.save(dest_file)\n",
    "\n",
    "# Пример использования:\n",
    "src_file = \"C:/Users/oleg9/study/Диплом/Service/helper.xlsx\"\n",
    "src_sheet = \"2\"\n",
    "dest_file = \"C:/Users/oleg9/study/Диплом/Service/resource_indicator_source_system.xlsx\"\n",
    "dest_sheet = \"sheet3\"\n",
    "\n",
    "duplicate_cell(src_file, src_sheet, dest_file, dest_sheet)"
   ]
  },
  {
   "cell_type": "code",
   "execution_count": null,
   "metadata": {},
   "outputs": [],
   "source": []
  }
 ],
 "metadata": {
  "kernelspec": {
   "display_name": "Python 3",
   "language": "python",
   "name": "python3"
  },
  "language_info": {
   "codemirror_mode": {
    "name": "ipython",
    "version": 3
   },
   "file_extension": ".py",
   "mimetype": "text/x-python",
   "name": "python",
   "nbconvert_exporter": "python",
   "pygments_lexer": "ipython3",
   "version": "3.11.6"
  }
 },
 "nbformat": 4,
 "nbformat_minor": 2
}
